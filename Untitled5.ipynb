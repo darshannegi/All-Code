{
  "nbformat": 4,
  "nbformat_minor": 0,
  "metadata": {
    "colab": {
      "name": "Untitled5.ipynb",
      "version": "0.3.2",
      "provenance": [],
      "collapsed_sections": [],
      "include_colab_link": true
    },
    "kernelspec": {
      "name": "python3",
      "display_name": "Python 3"
    }
  },
  "cells": [
    {
      "cell_type": "markdown",
      "metadata": {
        "id": "view-in-github",
        "colab_type": "text"
      },
      "source": [
        "<a href=\"https://colab.research.google.com/github/darshannegi/All-Code/blob/master/Untitled5.ipynb\" target=\"_parent\"><img src=\"https://colab.research.google.com/assets/colab-badge.svg\" alt=\"Open In Colab\"/></a>"
      ]
    },
    {
      "cell_type": "code",
      "metadata": {
        "id": "z7QU_ygzSKOy",
        "colab_type": "code",
        "colab": {}
      },
      "source": [
        "\"\"\"\n",
        "\n",
        "Loading and normalizing the CIFAR 10\n",
        "\n",
        "^^^^^^^^^^^^^^^^^^^^^^^^^\n",
        "\n",
        "Using Torchvision\n",
        "\"\"\"\n",
        "\n",
        "\n",
        "\n",
        "import torch\n",
        "\n",
        "import torchvision\n",
        "\n",
        "\n",
        "\n",
        "import matplotlib.pyplot as plt\n",
        "\n",
        "import numpy as np\n",
        "\n",
        "import torch.nn as nn\n",
        "\n",
        "import torch.nn.functional as F\n",
        "\n",
        "\n",
        "\n",
        "\n"
      ],
      "execution_count": 0,
      "outputs": []
    },
    {
      "cell_type": "code",
      "metadata": {
        "id": "ZNtni8FySSuP",
        "colab_type": "code",
        "colab": {}
      },
      "source": [
        "import torchvision.transforms.transforms as transforms\n",
        "from torchvision import datasets\n",
        "\n",
        "#number of subprocess used for data\n",
        "num_workers = 0\n",
        "# How many samples per load of the data\n",
        "batch_size=20\n",
        "\n",
        "#Convert data to Tensor\n",
        "transform = transforms.ToTensor()\n",
        "#Choosing training and testing dataset\n",
        "\n",
        "train_data = torchvision.datasets.MNIST(root='./data', train=True, download=True, transform=transform)\n",
        "test_data = torchvision.datasets.MNIST(root='./data', train=True, download=True, transform=transform)\n",
        "\n",
        "train_loader = torch.utils.data.DataLoader(train_data, batch_size=batch_size, shuffle=True, num_workers=num_workers)\n",
        "test_loader = torch.utils.data.DataLoader(test_data, batch_size=batch_size, shuffle=True, num_workers=num_workers)\n",
        "\n",
        "\n",
        "\n"
      ],
      "execution_count": 0,
      "outputs": []
    },
    {
      "cell_type": "code",
      "metadata": {
        "id": "al3YQJvRVEyE",
        "colab_type": "code",
        "outputId": "f5faebd6-90fc-4b4a-9692-7676791e728a",
        "colab": {
          "base_uri": "https://localhost:8080/",
          "height": 288
        }
      },
      "source": [
        "#See the outout of dataset images\n",
        "import matplotlib.pyplot as plt\n",
        "import numpy\n",
        "%matplotlib inline\n",
        "\n",
        "#Obtain one training batch at a time\n",
        "\n",
        "dataiter = iter(train_loader)\n",
        "images, labels = dataiter.next()\n",
        "images = images.numpy()\n",
        "\n",
        "#Plot the images in the batches, with corresponding labels\n",
        "\n",
        "fig = plt.figure(figsize=(25, 4))\n",
        "for idx in np.arange(20):\n",
        "\tax = fig.add_subplot(2, 20/2, idx+1, xticks=[], yticks=[])\n",
        "\tax.imshow(np.squeeze(images[idx]), cmap='gray')\n",
        "\t#print out the correct labels for each image\n",
        "\t#.item() gets the value contained  in  a Tensor\n",
        "\tax.set_title(str(labels[idx].item()))"
      ],
      "execution_count": 12,
      "outputs": [
        {
          "output_type": "display_data",
          "data": {
            "image/png": "[encoded data removed]",
            "text/plain": [
              "<Figure size 1800x288 with 20 Axes>"
            ]
          },
          "metadata": {
            "tags": []
          }
        }
      ]
    },
    {
      "cell_type": "code",
      "metadata": {
        "id": "4YccAuSfZoGU",
        "colab_type": "code",
        "colab": {
          "base_uri": "https://localhost:8080/",
          "height": 132
        },
        "outputId": "2428b878-8b6f-4eb4-f6ef-65de15a06ed1"
      },
      "source": [
        "img  = np.sqeeze(images[1])\n",
        "\n",
        "fig = plt.figure(figsize = (12,12))\n",
        "ax =fig.add_subplot(111)\n",
        "ax.imshow(img, cmap='gray')\t\n",
        "width, hegiht = img.shape\n",
        "thres =  img.max()/2.5\n",
        "\n",
        "for x in range(width):\n",
        "  for y in range(height):\n",
        "    val =round(img[x][y],2) if img[x][y] !=0 else 0\n",
        "    ax.annotate(str(val), xy=(y,x),\n",
        "                horizontalalignment ='center'\n",
        "                verticalalignment='center'\n",
        "                color='white' if img[x][y]<thresh else 'black')\n",
        "                     \n",
        "                    "
      ],
      "execution_count": 38,
      "outputs": [
        {
          "output_type": "error",
          "ename": "SyntaxError",
          "evalue": "ignored",
          "traceback": [
            "\u001b[0;36m  File \u001b[0;32m\"<ipython-input-38-598473595178>\"\u001b[0;36m, line \u001b[0;32m17\u001b[0m\n\u001b[0;31m    \u001b[0m\n\u001b[0m    ^\u001b[0m\n\u001b[0;31mSyntaxError\u001b[0m\u001b[0;31m:\u001b[0m unexpected EOF while parsing\n"
          ]
        }
      ]
    },
    {
      "cell_type": "code",
      "metadata": {
        "id": "-SkQJuyLkW-s",
        "colab_type": "code",
        "colab": {}
      },
      "source": [
        ""
      ],
      "execution_count": 0,
      "outputs": []
    },
    {
      "cell_type": "code",
      "metadata": {
        "id": "q3JYycmQkZn4",
        "colab_type": "code",
        "colab": {}
      },
      "source": [
        ""
      ],
      "execution_count": 0,
      "outputs": []
    },
    {
      "cell_type": "code",
      "metadata": {
        "id": "vRmYsTV6ZVsO",
        "colab_type": "code",
        "colab": {}
      },
      "source": [
        ""
      ],
      "execution_count": 0,
      "outputs": []
    }
  ]
}